{
 "cells": [
  {
   "cell_type": "markdown",
   "metadata": {},
   "source": [
    "# Weighted Condorcet's Jury Theorem"
   ]
  },
  {
   "cell_type": "code",
   "execution_count": 1,
   "metadata": {},
   "outputs": [],
   "source": [
    "import numpy as np\n",
    "import matplotlib.pyplot as plt\n",
    "from tqdm import tqdm\n",
    "from scipy.stats import norm"
   ]
  },
  {
   "cell_type": "markdown",
   "metadata": {},
   "source": [
    "## The Environment"
   ]
  },
  {
   "cell_type": "markdown",
   "metadata": {},
   "source": [
    "Consider a person who is suspected of having a hypothethical disease. He/She is tested using a machine which sends a signal $S$ depending on the precence or absence of the disease. Now, in an ideal world, the signal $S$ would have been a binary function which would have assumed one particular value for the presence of the disease and another value for the absence of the disease. However, in reality, the signal sent by the machine is actually a random variable which maybe drawn from one normal distribution if the disease is present, or from another normal distribution if the disease is absent."
   ]
  },
  {
   "cell_type": "markdown",
   "metadata": {},
   "source": [
    "Suppose the probability of the person having the disease is $p$. Therefore, the signal sent is,\n",
    "\n",
    "$$ S \\sim p \\cdot \\mathcal{N}\\left(\\mu_p, \\sigma^2\\right) + \\left(1-p\\right) \\cdot \\mathcal{N}\\left(\\mu_n, \\sigma^2\\right) $$\n",
    "\n",
    "where,\n",
    "- $p$ is the probability that the disease is present (also known as the __prior__\n",
    "- $\\mu_p$ is the mean signal if the disease is present\n",
    "- $\\mu_n$ is the mean signal if the disease is absent\n",
    "- $\\sigma$ is the standard deviation of the signal sent in either case\n",
    "- $\\mathcal{N}\\left(\\mu,\\sigma^2\\right)$ is the normal distribution with mean $\\mu$ and standard deviation $\\sigma$."
   ]
  },
  {
   "cell_type": "code",
   "execution_count": 2,
   "metadata": {},
   "outputs": [],
   "source": [
    "class Environment:\n",
    "    \n",
    "    def __init__(self, N_exp, prior, μ_p, μ_n, σ):\n",
    "        \n",
    "        self.N_exp = N_exp\n",
    "        self.prior = prior\n",
    "        self.μ_p = μ_p\n",
    "        self.μ_n = μ_n\n",
    "        self.σ = σ\n",
    "        \n",
    "        self.event = [True if np.random.random() < prior else False for i in range(N_exp)]\n",
    "        self.signal = [μ_p + σ*(np.random.randn()) if self.event[i] else μ_n + σ*(np.random.randn()) for i in range(N_exp)]"
   ]
  },
  {
   "cell_type": "markdown",
   "metadata": {},
   "source": [
    "## The Perfect Decision Making Agents"
   ]
  },
  {
   "cell_type": "markdown",
   "metadata": {},
   "source": [
    "The signal $S$ is received by $N$ decision making agents (or simply, agents). Each agent $i$ decides, on the basis of the signal received, whether the patient has the disease or not. This is done on the basis of a threshold $T_i$: if the percieved signal strength is greater than the threshold $T_i$, then the agent decides that the patient has the disease; else the agent decides that the patient does not have the disease."
   ]
  },
  {
   "cell_type": "markdown",
   "metadata": {},
   "source": [
    "Since the signal $S$ comes from normal distributions, the decisions of the agents will not always be accurate. Let $a_{p,i}$ be the probability that agent $i$ would make the correct decision if the desease is present. Similarly, let $a_{n,i}$ be the probability that agent $i$ would make the correct decision if the desease is not present. Then,\n",
    "\n",
    "$$ a_{p,i} = 1 - \\Phi\\left( T_i, \\mu_p, \\sigma \\right) $$\n",
    "and\n",
    "$$ a_{n,i} = \\Phi\\left( T_i, \\mu_n, \\sigma \\right) $$\n",
    "\n",
    "where $\\Phi\\left( x, \\mu, \\sigma \\right)$ is the value CDF of a normal distribution with mean $\\mu$ and standard deviation $\\sigma$ at point $x$."
   ]
  },
  {
   "cell_type": "code",
   "execution_count": 3,
   "metadata": {},
   "outputs": [],
   "source": [
    "def get_accuracy(x, μ_p, μ_n, σ):\n",
    "    a_p = 1 - norm.cdf(x,μ_p,σ)\n",
    "    a_n = norm.cdf(x,μ_n,σ)\n",
    "    return (a_p, a_n)"
   ]
  },
  {
   "cell_type": "markdown",
   "metadata": {},
   "source": [
    "### Reward Matrix\n",
    "\n",
    "In order to determine the threshold $T_i$, it is important to consider the rewards of making a decision. There are four possible scenarios regarding the correctness of the decision. Each of these scenarios has its corresponding reward:\n",
    "\n",
    "$\\downarrow$ Decision/Environment $\\rightarrow$ | Positive | Negative\n",
    "------------------------------------------------|----------|----------\n",
    "Positive                                        | $R_{TP}$ | $R_{FP}$\n",
    "Negative                                        | $R_{FN}$ | $R_{TN}$"
   ]
  },
  {
   "cell_type": "markdown",
   "metadata": {},
   "source": [
    "### The Expected Reward\n",
    "\n",
    "Combing the aforementioned reward matrix, the accuracies of the agents and the priors, we get the expected reward for a given threshold to be,\n",
    "\n",
    "$$ E_i = p \\cdot \\left[ a_{p,i} \\cdot R_{TP} + \\left(1-a_{p,i} \\right) \\cdot R_{FN} \\right] + \\left[1-p \\right] \\cdot \\left[ a_{n,i} \\cdot R_{TN} + \\left(1-a_{n,i} \\right) \\cdot R_{FP} \\right] $$"
   ]
  },
  {
   "cell_type": "code",
   "execution_count": 4,
   "metadata": {},
   "outputs": [],
   "source": [
    "def get_expected_reward(p, μ_p, μ_n, σ, R, x_min=None, x_max=None, n_points=None):\n",
    "\n",
    "    assert μ_p > μ_n\n",
    "    \n",
    "    x_min = μ_n - 6*σ if x_min == None else x_min\n",
    "    x_max = μ_p + 6*σ if x_max == None else x_max\n",
    "    n_points = 10000 if n_points == None else n_points\n",
    "    \n",
    "    assert x_max > x_min\n",
    "    \n",
    "    xs = np.linspace(x_min, x_max, n_points)\n",
    "    ys = np.zeros(len(xs))\n",
    "    \n",
    "    for i in range(len(xs)):\n",
    "        (a_p, a_n) = get_accuracy(xs[i], μ_p, μ_n, σ)\n",
    "        ys[i] = p*(a_p*R['tp']+(1-a_p)*R['fn']) + (1-p)*(a_n*R['tn']+(1-a_n)*R['fp'])\n",
    "    \n",
    "    return (xs, ys)"
   ]
  },
  {
   "cell_type": "markdown",
   "metadata": {},
   "source": [
    "### Finding the Threshold\n",
    "\n",
    "The agents choose the threshold such that the expected reward is the maximum, _i. e._,\n",
    "$$ \\dfrac{\\partial E_i}{\\partial T_i} = 0 $$\n",
    "and\n",
    "$$ \\dfrac{\\partial^2 E_i}{\\partial T_i^2} < 0. $$"
   ]
  },
  {
   "cell_type": "code",
   "execution_count": 5,
   "metadata": {},
   "outputs": [],
   "source": [
    "def get_optimized_threshold(x,y):\n",
    "    \n",
    "    assert len(x) == len(y)\n",
    "    \n",
    "    r = []\n",
    "    for ii in range(1,len(x)-1):\n",
    "        if y[ii] > y[ii+1] and y[ii] > y[ii-1]:\n",
    "            a = {'threshold': x[ii], \n",
    "                 'reward': y[ii],\n",
    "                 'index': ii\n",
    "                }\n",
    "            r.append(a)\n",
    "            \n",
    "    if len(r) == 0:\n",
    "        print('No maximas found')\n",
    "        return\n",
    "    if len(r) > 1:\n",
    "        print('Multiple maximas found')\n",
    "    \n",
    "    return r[0]"
   ]
  },
  {
   "cell_type": "markdown",
   "metadata": {},
   "source": [
    "## The Imperfect Decision Maker"
   ]
  },
  {
   "cell_type": "markdown",
   "metadata": {},
   "source": [
    "During this decision process, the agent can make the following two types errors:\n",
    "\n",
    "- Error in percieving the ideal signal strengths $\\mu_p$ and $\\mu_n$.\n",
    "- Error in percieving sent signal strength $S$.\n",
    "\n",
    "Let us assume that the percieved ideal signal signal strengths are $\\tilde{\\mu}_{p,i}$ and $\\tilde{\\mu}_{n,i}$, and the percieved signal strength is $\\tilde{S}_i$. Then,\n",
    "\n",
    "$$ \\tilde{\\mu}_{p,i} = \\mu_p + \\epsilon_i $$\n",
    "$$ \\tilde{\\mu}_{n,i} = \\mu_n + \\epsilon_i $$\n",
    "and\n",
    "$$ \\tilde{S}_{i} = S + \\zeta_i $$\n",
    "\n",
    "where, $ \\epsilon_i \\sim \\mathcal{N} \\left( 0, e_{\\mu}^2 \\right) $ and $ \\zeta_i \\sim \\mathcal{N} \\left( 0, e_{S}^2 \\right) $ are the errors in determining the means and the signal respectively. "
   ]
  },
  {
   "cell_type": "code",
   "execution_count": 6,
   "metadata": {},
   "outputs": [],
   "source": [
    "class Agent:\n",
    "    \n",
    "    def __init__(self, idx, p, μ_p, μ_n, σ, R, err_μ=0):\n",
    "        \n",
    "        self.index = idx\n",
    "        self.μ_p_prime = μ_p + err_μ*np.random.randn()\n",
    "        self.μ_n_prime = μ_n + err_μ*np.random.randn()\n",
    "        \n",
    "        xx, yy = get_expected_reward(p, self.μ_p_prime, self.μ_n_prime, σ, R)\n",
    "        opt = get_optimized_threshold(xx, yy)\n",
    "        self.threshold_prime = opt['threshold']\n",
    "        \n",
    "        a_p, a_n = get_accuracy(self.threshold_prime, self.μ_p_prime, self.μ_n_prime, σ)\n",
    "        self.accuracy_p = a_p\n",
    "        self.accuracy_n = a_n\n",
    "        \n",
    "    def decide(self, S, err_S=0):\n",
    "        \n",
    "        self.S_prime = S + err_S*np.random.randn()\n",
    "        self.decision = self.S_prime > self.threshold_prime"
   ]
  },
  {
   "cell_type": "markdown",
   "metadata": {},
   "source": [
    "## Functions to run the code"
   ]
  },
  {
   "cell_type": "markdown",
   "metadata": {},
   "source": [
    "### Parameters"
   ]
  },
  {
   "cell_type": "markdown",
   "metadata": {},
   "source": [
    "We start by setting the default parameters of the system."
   ]
  },
  {
   "cell_type": "code",
   "execution_count": 7,
   "metadata": {},
   "outputs": [],
   "source": [
    "def set_parameters(p=0.5, μ_p=1, μ_n=-1, σ=0.3, R_tp=1, R_fn=0, R_tn=1, R_fp=0, No_of_exp=100, No_of_agents=100, err_μ=0.05, err_S=0.02):\n",
    "\n",
    "    params = {}\n",
    "    \n",
    "    params['p'] = p\n",
    "\n",
    "    params['μ_p'] = μ_p\n",
    "    params['μ_n'] = μ_n\n",
    "    params['σ'] = σ\n",
    "\n",
    "    params['R'] = {'tp': R_tp, 'fn': R_fn, 'tn': R_tn, 'fp': R_fp}\n",
    "\n",
    "    params['N_agents'] = No_of_agents\n",
    "    params['N_experiments'] = No_of_exp\n",
    "\n",
    "    params['err_μ'] = err_μ\n",
    "    params['err_s'] = err_S\n",
    "\n",
    "    return params"
   ]
  },
  {
   "cell_type": "markdown",
   "metadata": {},
   "source": [
    "### Ideal Agent"
   ]
  },
  {
   "cell_type": "code",
   "execution_count": 8,
   "metadata": {},
   "outputs": [],
   "source": [
    "def get_ideal_parameters(p, μ_p, μ_n, σ, R):\n",
    "    xx, yy = (get_expected_reward(p, μ_p, μ_n, σ, R))\n",
    "    ideal_parameters = get_optimized_threshold(xx, yy)\n",
    "    return ideal_parameters"
   ]
  },
  {
   "cell_type": "markdown",
   "metadata": {},
   "source": [
    "### Create Environment"
   ]
  },
  {
   "cell_type": "code",
   "execution_count": 9,
   "metadata": {},
   "outputs": [],
   "source": [
    "def create_environment(N_experiments, p, μ_p, μ_n, σ):\n",
    "    env = Environment(N_experiments, p, μ_p, μ_n, σ)\n",
    "    return env"
   ]
  },
  {
   "cell_type": "markdown",
   "metadata": {},
   "source": [
    "### Create agents"
   ]
  },
  {
   "cell_type": "code",
   "execution_count": 10,
   "metadata": {},
   "outputs": [],
   "source": [
    "def create_agents(N_agents, p, μ_p, μ_n, σ, R, err_μ):\n",
    "    agents = []\n",
    "    for i in tqdm(range(N_agents)):\n",
    "        a = Agent(i, p, μ_p, μ_n, σ, R, err_μ)\n",
    "        agents.append(a)\n",
    "    return agents"
   ]
  },
  {
   "cell_type": "markdown",
   "metadata": {},
   "source": [
    "### Make Decisions"
   ]
  },
  {
   "cell_type": "code",
   "execution_count": 11,
   "metadata": {},
   "outputs": [],
   "source": [
    "def make_decisions(env, agents, err_S):\n",
    "    \n",
    "    N_experiments = env.N_exp\n",
    "    N_agents = len(agents)\n",
    "    \n",
    "    ss = np.zeros((N_experiments, N_agents))\n",
    "    dd = np.zeros((N_experiments, N_agents))\n",
    "\n",
    "    for i in range(N_experiments):\n",
    "    \n",
    "        current_signal = env.signal[i]\n",
    "    \n",
    "        for j in range(N_agents):\n",
    "            agents[j].decide(current_signal, err_S)\n",
    "\n",
    "            ss[i,j] = agents[j].S_prime\n",
    "            dd[i,j] = agents[j].decision\n",
    "            \n",
    "    return (ss, dd)"
   ]
  },
  {
   "cell_type": "markdown",
   "metadata": {},
   "source": [
    "### Combine decisions"
   ]
  },
  {
   "cell_type": "code",
   "execution_count": 12,
   "metadata": {},
   "outputs": [],
   "source": [
    "def combine_decisions(env, agents, decisions, p, R):\n",
    "    \n",
    "    cd = [True]*env.N_exp\n",
    "    \n",
    "    for i in range(env.N_exp):\n",
    "        \n",
    "        combined_decision = np.log(p/(1-p)) + np.log((R['tp']-R['fn'])/(R['tn']-R['fp']))\n",
    "        \n",
    "        for j in range(len(agents)):\n",
    "            \n",
    "            x = 1 if decisions[i,j] == 1 else -1\n",
    "            \n",
    "            β_p = np.log(agents[j].accuracy_p/(1-agents[j].accuracy_p))\n",
    "            β_n = np.log(agents[j].accuracy_n/(1-agents[j].accuracy_n))\n",
    "            \n",
    "            ψ = 0.5 * np.log((agents[j].accuracy_p*(1-agents[j].accuracy_p))/(agents[j].accuracy_n*(1-agents[j].accuracy_n)))\n",
    "            \n",
    "            combined_decision += 0.5 * (β_p + β_n) * x + ψ\n",
    "            \n",
    "        if combined_decision > 1:\n",
    "            cd[i] = True\n",
    "        else:\n",
    "            cd[i] = False\n",
    "            \n",
    "    return cd"
   ]
  },
  {
   "cell_type": "markdown",
   "metadata": {},
   "source": [
    "### Get Rewarded"
   ]
  },
  {
   "cell_type": "code",
   "execution_count": 17,
   "metadata": {},
   "outputs": [],
   "source": [
    "def get_group_reward(env, group_decisions, R):\n",
    "    \n",
    "    reward = np.zeros(env.N_exp)\n",
    "    for i in range(env.N_exp):\n",
    "\n",
    "        if env.event[i] == True and group_decisions[i] == True:\n",
    "            reward[i] += R['tp']\n",
    "        elif env.event[i] == True and group_decisions[i] == False:\n",
    "            reward[i] += R['fn']\n",
    "        elif env.event[i] == False and group_decisions[i] == True:\n",
    "            reward[i] += R['fp']\n",
    "        elif env.event[i] == False and group_decisions[i] == False:\n",
    "            reward[i] += R['tn']\n",
    "            \n",
    "    return reward"
   ]
  },
  {
   "cell_type": "markdown",
   "metadata": {},
   "source": [
    "## Running the Code"
   ]
  },
  {
   "cell_type": "code",
   "execution_count": 14,
   "metadata": {},
   "outputs": [
    {
     "name": "stderr",
     "output_type": "stream",
     "text": [
      "  0%|          | 0/100 [00:00<?, ?it/s]\n",
      "  0%|          | 0/100 [00:00<?, ?it/s]"
     ]
    },
    {
     "name": "stdout",
     "output_type": "stream",
     "text": [
      "No maximas found\n"
     ]
    },
    {
     "name": "stderr",
     "output_type": "stream",
     "text": [
      "100%|██████████| 100/100 [05:31<00:00,  3.26s/it]\n"
     ]
    },
    {
     "name": "stdout",
     "output_type": "stream",
     "text": [
      "fp\n"
     ]
    },
    {
     "name": "stderr",
     "output_type": "stream",
     "text": [
      "100%|██████████| 100/100 [05:31<00:00,  3.34s/it]\n"
     ]
    },
    {
     "name": "stdout",
     "output_type": "stream",
     "text": [
      "fp\n",
      "fp\n",
      "fn\n",
      "fp\n",
      "fn\n",
      "fn\n"
     ]
    },
    {
     "name": "stderr",
     "output_type": "stream",
     "text": [
      "100%|██████████| 100/100 [05:32<00:00,  3.24s/it]\n"
     ]
    },
    {
     "name": "stdout",
     "output_type": "stream",
     "text": [
      "fn\n",
      "fn\n",
      "fn\n",
      "fp\n"
     ]
    },
    {
     "name": "stderr",
     "output_type": "stream",
     "text": [
      "100%|██████████| 100/100 [05:31<00:00,  3.33s/it]\n"
     ]
    },
    {
     "name": "stdout",
     "output_type": "stream",
     "text": [
      "fn\n",
      "fn\n",
      "fp\n",
      "fp\n",
      "fp\n"
     ]
    },
    {
     "name": "stderr",
     "output_type": "stream",
     "text": [
      "100%|██████████| 100/100 [05:32<00:00,  3.43s/it]\n"
     ]
    },
    {
     "name": "stdout",
     "output_type": "stream",
     "text": [
      "fn\n",
      "fn\n",
      "fp\n",
      "fp\n",
      "fn\n",
      "fp\n"
     ]
    },
    {
     "name": "stderr",
     "output_type": "stream",
     "text": [
      "100%|██████████| 100/100 [05:28<00:00,  3.33s/it]\n",
      "100%|██████████| 100/100 [05:30<00:00,  3.39s/it]\n"
     ]
    },
    {
     "name": "stdout",
     "output_type": "stream",
     "text": [
      "fp\n"
     ]
    },
    {
     "name": "stderr",
     "output_type": "stream",
     "text": [
      "100%|██████████| 100/100 [05:33<00:00,  3.18s/it]\n"
     ]
    },
    {
     "name": "stdout",
     "output_type": "stream",
     "text": [
      "fn\n",
      "fp\n",
      "fp\n",
      "fp\n"
     ]
    },
    {
     "name": "stderr",
     "output_type": "stream",
     "text": [
      "  0%|          | 0/100 [00:00<?, ?it/s]"
     ]
    },
    {
     "name": "stdout",
     "output_type": "stream",
     "text": [
      "No maximas found\n"
     ]
    },
    {
     "name": "stderr",
     "output_type": "stream",
     "text": [
      "\n"
     ]
    }
   ],
   "source": [
    "N_points = 10\n",
    "\n",
    "prob_list = np.linspace(0,1,N_points)\n",
    "\n",
    "data_ideal = np.zeros(N_points)\n",
    "data_mean = np.zeros(N_points)\n",
    "data_std = np.zeros(N_points)\n",
    "\n",
    "for count in range(len(prob_list)):\n",
    "\n",
    "    params = set_parameters(p=prob_list[count], μ_p=0.5, μ_n=-0.5)\n",
    "    \n",
    "    try:\n",
    "    \n",
    "        env = create_environment(N_experiments=params['N_experiments'], p=params['p'], μ_p=params['μ_p'], μ_n=params['μ_n'], σ=params['σ'])\n",
    "        agents = create_agents(N_agents=params['N_agents'], p=params['p'], μ_p=params['μ_p'], μ_n=params['μ_n'], σ=params['σ'], R=params['R'], err_μ=params['err_μ'])\n",
    "\n",
    "        individual_signals, individual_decisions = make_decisions(env, agents, params['err_s'])\n",
    "        group_decisions = combine_decisions(env, agents, individual_decisions, params['p'], params['R'])\n",
    "        group_rewards = get_group_reward(env, group_decisions, params['R'])\n",
    "\n",
    "        ideal = get_ideal_parameters(p=params['p'], μ_p=params['μ_p'], μ_n=params['μ_n'], σ=params['σ'], R=params['R'])\n",
    "\n",
    "        mean_group_rewards = np.mean(group_rewards)\n",
    "        std_group_rewards = np.std(group_rewards)\n",
    "\n",
    "        data_ideal[count] = ideal['reward']\n",
    "        data_mean[count] = mean_group_rewards\n",
    "        data_std[count] = std_group_rewards\n",
    "    \n",
    "    except:\n",
    "        \n",
    "        pass"
   ]
  },
  {
   "cell_type": "code",
   "execution_count": 21,
   "metadata": {},
   "outputs": [
    {
     "data": {
      "image/png": "[encoded data removed]",
      "text/plain": [
       "<Figure size 864x864 with 1 Axes>"
      ]
     },
     "metadata": {
      "needs_background": "light"
     },
     "output_type": "display_data"
    }
   ],
   "source": [
    "plt.figure(figsize=(12,12))\n",
    "plt.plot(prob_list,data_mean)\n",
    "plt.plot(prob_list,data_ideal)\n",
    "plt.show()"
   ]
  }
 ],
 "metadata": {
  "kernelspec": {
   "display_name": "Python 3",
   "language": "python",
   "name": "python3"
  },
  "language_info": {
   "codemirror_mode": {
    "name": "ipython",
    "version": 3
   },
   "file_extension": ".py",
   "mimetype": "text/x-python",
   "name": "python",
   "nbconvert_exporter": "python",
   "pygments_lexer": "ipython3",
   "version": "3.7.1"
  }
 },
 "nbformat": 4,
 "nbformat_minor": 2
}
